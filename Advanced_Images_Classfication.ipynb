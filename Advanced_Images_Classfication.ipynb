{
  "nbformat": 4,
  "nbformat_minor": 0,
  "metadata": {
    "colab": {
      "name": "Advanced Images Classfication.ipynb",
      "provenance": [],
      "authorship_tag": "ABX9TyNldbNQ7q4XbgIcA/67B6o6"
    },
    "kernelspec": {
      "name": "python3",
      "display_name": "Python 3"
    }
  },
  "cells": [
    {
      "cell_type": "code",
      "metadata": {
        "id": "1HgbL36gxWbv",
        "colab_type": "code",
        "colab": {
          "base_uri": "https://localhost:8080/",
          "height": 33
        },
        "outputId": "c5540e36-770f-44f2-ad2d-e0b75e08b82e"
      },
      "source": [
        "try:\n",
        "  %tensorflow_version 1.x\n",
        "except Exception:\n",
        "  pass\n",
        "import tensorflow as tf\n",
        "assert tf.__version__.startswith('1')\n",
        "\n",
        "tf.enable_eager_execution()\n",
        "\n",
        "import os\n",
        "import numpy as np\n",
        "import matplotlib.pyplot as plt"
      ],
      "execution_count": null,
      "outputs": [
        {
          "output_type": "stream",
          "text": [
            "TensorFlow 1.x selected.\n"
          ],
          "name": "stdout"
        }
      ]
    },
    {
      "cell_type": "code",
      "metadata": {
        "id": "P90XLziP0olg",
        "colab_type": "code",
        "colab": {
          "base_uri": "https://localhost:8080/",
          "height": 1000
        },
        "outputId": "05fc5d21-7d7c-416f-cf60-e4b945c88033"
      },
      "source": [
        "!unzip '/content/new.zip'"
      ],
      "execution_count": null,
      "outputs": [
        {
          "output_type": "stream",
          "text": [
            "Archive:  /content/new.zip\n",
            "   creating: new/bitter gourd/\n",
            "  inflating: new/bitter gourd/020714goya1.jpg  \n",
            "  inflating: new/bitter gourd/4c52ec14e5e189a0d6b6b08f1116b686.jpg  \n",
            "  inflating: new/bitter gourd/51Ty8c4Ue6L.jpg  \n",
            "  inflating: new/bitter gourd/51yVVdOdVsL._SX425_.jpg  \n",
            "  inflating: new/bitter gourd/61gjLaHE4SL._AC_UL600_SR600600_.jpg  \n",
            "  inflating: new/bitter gourd/71o5MjHGK7L._SX466_.jpg  \n",
            "  inflating: new/bitter gourd/87009c49c1ea74191f882f48991d8259.jpg  \n",
            "  inflating: new/bitter gourd/a85614fa165e046ec066961310327105.jpg  \n",
            "  inflating: new/bitter gourd/bitter.jpg  \n",
            "  inflating: new/bitter gourd/bitter0.jpg  \n",
            "  inflating: new/bitter gourd/bitter20g.jpg  \n",
            "  inflating: new/bitter gourd/BitterGourd .jpg  \n",
            "  inflating: new/bitter gourd/bittergourd.jpg  \n",
            "  inflating: new/bitter gourd/Bitter-gourd-300x278.jpg  \n",
            "  inflating: new/bitter gourd/bitter-gourd-4345074_960_720.jpg  \n",
            "  inflating: new/bitter gourd/bitter-gourd-4345077_640.jpg  \n",
            "  inflating: new/bitter gourd/Bitter-Gourd-Farming.jpg  \n",
            "  inflating: new/bitter gourd/Bitter-gourd-fruit-in-the-plant.jpg  \n",
            "  inflating: new/bitter gourd/bitter-gourd-growing-is-used-in-cooking-to-produce-a-bitter-flavormomoridica-E5CE55.jpg  \n",
            "  inflating: new/bitter gourd/Bitter-gourd-nb-09988.jpg  \n",
            "  inflating: new/bitter gourd/bittergourd-white_1200x1200_1.jpg  \n",
            "  inflating: new/bitter gourd/bitter-melon.jpg  \n",
            "  inflating: new/bitter gourd/Bitter-melon-199x300.jpg  \n",
            "  inflating: new/bitter gourd/Bitter-Melon-Best-Varieties-Growing-Guide-Care-Problems-and-Harvest-FI.jpg  \n",
            "  inflating: new/bitter gourd/bittermelonJPG.jpg  \n",
            "  inflating: new/bitter gourd/bitter-melon-on-fence-is-1000x1000.jpg  \n",
            "  inflating: new/bitter gourd/DSC01713JPG.jpg  \n",
            "  inflating: new/bitter gourd/Early-Hybrid-Variety..jpg  \n",
            "  inflating: new/bitter gourd/FP29RRZHGH6JCWU.LARGE.jpg  \n",
            "  inflating: new/bitter gourd/Fruit-of-bitter-gourd.jpg  \n",
            "  inflating: new/bitter gourd/grow-bitter-gourd-768x512_950x406_fd01937a-e619-4f6e-b497-dccafecdc135_1170x.jpg  \n",
            "  inflating: new/bitter gourd/Growing-Bittergourd1.jpg  \n",
            "  inflating: new/bitter gourd/growing-bitter-melon-in-pot-1.jpg  \n",
            "  inflating: new/bitter gourd/homegrown-karela.jpg  \n",
            "  inflating: new/bitter gourd/how-to-grow-bitter-gourd.jpg  \n",
            "  inflating: new/bitter gourd/how-to-grow-bitter-melon.jpg  \n",
            "  inflating: new/bitter gourd/hqdefault.jpg  \n",
            "  inflating: new/bitter gourd/hybrid-bitter-gourd-250x250.jpg  \n",
            "  inflating: new/bitter gourd/image.jpeg  \n",
            "  inflating: new/bitter gourd/image0.jpeg  \n",
            "  inflating: new/bitter gourd/image1.jpeg  \n",
            "  inflating: new/bitter gourd/image10.jpeg  \n",
            "  inflating: new/bitter gourd/image12.jpeg  \n",
            "  inflating: new/bitter gourd/image14.jpeg  \n",
            "  inflating: new/bitter gourd/image16.jpeg  \n",
            "  inflating: new/bitter gourd/image17.jpeg  \n",
            "  inflating: new/bitter gourd/image18.jpeg  \n",
            "  inflating: new/bitter gourd/image3.jpeg  \n",
            "  inflating: new/bitter gourd/image4.jpeg  \n",
            "  inflating: new/bitter gourd/image5.jpeg  \n",
            "  inflating: new/bitter gourd/image6.jpeg  \n",
            "  inflating: new/bitter gourd/image7.jpeg  \n",
            "  inflating: new/bitter gourd/image8.jpeg  \n",
            "  inflating: new/bitter gourd/image9.jpeg  \n",
            "  inflating: new/bitter gourd/images (10).jpg  \n",
            "  inflating: new/bitter gourd/images (11).jpg  \n",
            "  inflating: new/bitter gourd/images (12).jpg  \n",
            "  inflating: new/bitter gourd/images (13).jpg  \n",
            "  inflating: new/bitter gourd/images (14).jpg  \n",
            "  inflating: new/bitter gourd/images (15).jpg  \n",
            "  inflating: new/bitter gourd/images (17).jpg  \n",
            "  inflating: new/bitter gourd/images (18).jpg  \n",
            "  inflating: new/bitter gourd/images (19).jpg  \n",
            "  inflating: new/bitter gourd/images (2).jpg  \n",
            "  inflating: new/bitter gourd/images (20).jpg  \n",
            "  inflating: new/bitter gourd/images (21).jpg  \n",
            "  inflating: new/bitter gourd/images (22).jpg  \n",
            "  inflating: new/bitter gourd/images (23).jpg  \n",
            "  inflating: new/bitter gourd/images (24).jpg  \n",
            "  inflating: new/bitter gourd/images (3).jpg  \n",
            "  inflating: new/bitter gourd/images (4).jpg  \n",
            "  inflating: new/bitter gourd/images (5).jpg  \n",
            "  inflating: new/bitter gourd/images (6).jpg  \n",
            "  inflating: new/bitter gourd/images (7).jpg  \n",
            "  inflating: new/bitter gourd/images (8).jpg  \n",
            "  inflating: new/bitter gourd/images (9).jpg  \n",
            "  inflating: new/bitter gourd/images.jpg  \n",
            "  inflating: new/bitter gourd/images0.jpg  \n",
            "  inflating: new/bitter gourd/images1.jpg  \n",
            "  inflating: new/bitter gourd/images2.jpg  \n",
            "  inflating: new/bitter gourd/images3.jpg  \n",
            "  inflating: new/bitter gourd/images4.jpg  \n",
            "  inflating: new/bitter gourd/japanese-bitter-gourd-long-asian-vegetable-oriental-type-bitter-gourd-4_525x700.jpg  \n",
            "  inflating: new/bitter gourd/karela.jpg  \n",
            "  inflating: new/bitter gourd/karela2.jpg  \n",
            "  inflating: new/bitter gourd/m_crops_197.jpg  \n",
            "  inflating: new/bitter gourd/maruti-bittergourd-seeds-rudhra-f1-hybrid-500x500.jpg  \n",
            "  inflating: new/bitter gourd/maxresdefault.jpg  \n",
            "  inflating: new/bitter gourd/nurserylive-bitter-gourd-chaman.jpg  \n",
            "  inflating: new/bitter gourd/nurserylive-bitter-gourd-f1-spartan.jpg  \n",
            "  inflating: new/bitter gourd/nurserylive-bitter-gourd-jhalri-long_600x600.jpg  \n",
            "  inflating: new/bitter gourd/nurserylive-omx-bitter-gourd-f1-chu-chu-4159.jpg  \n",
            "  inflating: new/bitter gourd/preethiJPG.jpg  \n",
            "  inflating: new/bitter gourd/shutterstock_586542980.jpg  \n",
            "  inflating: new/bitter gourd/unnamed.jpg  \n",
            "  inflating: new/bitter gourd/vegetable-seeds-ns-1024-bitter-gourd-1_grande.jpg  \n",
            "  inflating: new/bitter gourd/web2-karella.jpg  \n",
            "  inflating: new/bitter gourd/wire-bitter-melon.jpg  \n",
            "   creating: new/cabbage/\n",
            "  inflating: new/cabbage/1.jpg       \n",
            "  inflating: new/cabbage/10.jpg      \n",
            "  inflating: new/cabbage/100.jpg     \n",
            "  inflating: new/cabbage/11.jpg      \n",
            "  inflating: new/cabbage/12.jpg      \n",
            "  inflating: new/cabbage/13.jpg      \n",
            "  inflating: new/cabbage/14.jpg      \n",
            "  inflating: new/cabbage/15.jpg      \n",
            "  inflating: new/cabbage/16.jpg      \n",
            "  inflating: new/cabbage/17.jpg      \n",
            "  inflating: new/cabbage/18.jpg      \n",
            "  inflating: new/cabbage/19.jpg      \n",
            "  inflating: new/cabbage/2.jpg       \n",
            "  inflating: new/cabbage/20.jpg      \n",
            "  inflating: new/cabbage/21.jpg      \n",
            "  inflating: new/cabbage/22.jpg      \n",
            "  inflating: new/cabbage/23.jpg      \n",
            "  inflating: new/cabbage/24.jpg      \n",
            "  inflating: new/cabbage/25.jpg      \n",
            "  inflating: new/cabbage/26.jpg      \n",
            "  inflating: new/cabbage/27.jpg      \n",
            "  inflating: new/cabbage/28.jpg      \n",
            "  inflating: new/cabbage/29.jpg      \n",
            "  inflating: new/cabbage/3.jpg       \n",
            "  inflating: new/cabbage/30.jpg      \n",
            "  inflating: new/cabbage/31.jpg      \n",
            "  inflating: new/cabbage/32.jpg      \n",
            "  inflating: new/cabbage/33.jpg      \n",
            "  inflating: new/cabbage/34.jpg      \n",
            "  inflating: new/cabbage/35.jpg      \n",
            "  inflating: new/cabbage/36.jpg      \n",
            "  inflating: new/cabbage/37.jpg      \n",
            "  inflating: new/cabbage/38.jpg      \n",
            "  inflating: new/cabbage/39.jpg      \n",
            "  inflating: new/cabbage/4.jpg       \n",
            "  inflating: new/cabbage/40.jpg      \n",
            "  inflating: new/cabbage/41.jpg      \n",
            "  inflating: new/cabbage/42.jpg      \n",
            "  inflating: new/cabbage/43.jpg      \n",
            "  inflating: new/cabbage/44.jpg      \n",
            "  inflating: new/cabbage/45.jpg      \n",
            "  inflating: new/cabbage/46.jpg      \n",
            "  inflating: new/cabbage/47.jpg      \n",
            "  inflating: new/cabbage/48.jpg      \n",
            "  inflating: new/cabbage/49.jpg      \n",
            "  inflating: new/cabbage/5.jpg       \n",
            "  inflating: new/cabbage/50.jpg      \n",
            "  inflating: new/cabbage/51.jpg      \n",
            "  inflating: new/cabbage/52.jpg      \n",
            "  inflating: new/cabbage/53.jpg      \n",
            "  inflating: new/cabbage/54.jpg      \n",
            "  inflating: new/cabbage/55.jpg      \n",
            "  inflating: new/cabbage/56.jpg      \n",
            "  inflating: new/cabbage/57.jpg      \n",
            "  inflating: new/cabbage/58.jpg      \n",
            "  inflating: new/cabbage/59.jpg      \n",
            "  inflating: new/cabbage/6.jpg       \n",
            "  inflating: new/cabbage/60.jpg      \n",
            "  inflating: new/cabbage/61.jpg      \n",
            "  inflating: new/cabbage/62.jpg      \n",
            "  inflating: new/cabbage/63.jpg      \n",
            "  inflating: new/cabbage/64.jpg      \n",
            "  inflating: new/cabbage/65.jpg      \n",
            "  inflating: new/cabbage/66.jpg      \n",
            "  inflating: new/cabbage/67.jpg      \n",
            "  inflating: new/cabbage/68.jpg      \n",
            "  inflating: new/cabbage/69.jpg      \n",
            "  inflating: new/cabbage/7.jpg       \n",
            "  inflating: new/cabbage/70.jpg      \n",
            "  inflating: new/cabbage/71.jpg      \n",
            "  inflating: new/cabbage/72.jpg      \n",
            "  inflating: new/cabbage/73.jpg      \n",
            "  inflating: new/cabbage/74.jpg      \n",
            "  inflating: new/cabbage/75.jpg      \n",
            "  inflating: new/cabbage/76.jpg      \n",
            "  inflating: new/cabbage/77.jpg      \n",
            "  inflating: new/cabbage/78.jpg      \n",
            "  inflating: new/cabbage/79.jpg      \n",
            "  inflating: new/cabbage/8.jpg       \n",
            "  inflating: new/cabbage/80.jpg      \n",
            "  inflating: new/cabbage/81.jpg      \n",
            "  inflating: new/cabbage/82.jpg      \n",
            "  inflating: new/cabbage/83.jpg      \n",
            "  inflating: new/cabbage/84.jpg      \n",
            "  inflating: new/cabbage/85.jpg      \n",
            "  inflating: new/cabbage/86.jpg      \n",
            "  inflating: new/cabbage/87.jpg      \n",
            "  inflating: new/cabbage/88.jpg      \n",
            "  inflating: new/cabbage/89.jpg      \n",
            "  inflating: new/cabbage/9.jpg       \n",
            "  inflating: new/cabbage/90.jpg      \n",
            "  inflating: new/cabbage/91.jpg      \n",
            "  inflating: new/cabbage/92.jpg      \n",
            "  inflating: new/cabbage/93.jpg      \n",
            "  inflating: new/cabbage/94.jpg      \n",
            "  inflating: new/cabbage/95.jpg      \n",
            "  inflating: new/cabbage/96.jpg      \n",
            "  inflating: new/cabbage/97.jpg      \n",
            "  inflating: new/cabbage/98.jpg      \n",
            "  inflating: new/cabbage/99.jpg      \n"
          ],
          "name": "stdout"
        }
      ]
    },
    {
      "cell_type": "code",
      "metadata": {
        "id": "4_CRTyR3R1i6",
        "colab_type": "code",
        "colab": {}
      },
      "source": [
        "import numpy as np\n",
        "import keras\n",
        "from keras.preprocessing.image import ImageDataGenerator\n",
        "from keras.preprocessing.image import array_to_img \n",
        "from keras.preprocessing.image import img_to_array\n",
        "from keras.preprocessing.image import load_img\n",
        "import os\n",
        "import cv2\n",
        "\n",
        "l=[\"bitter_gourd\",\"cabbage\"]\n",
        "for i in range(2):\n",
        "  datagen = ImageDataGenerator(rotation_range =60, \n",
        "                     width_shift_range = 0.2, \n",
        "                     height_shift_range = 0.2,  \n",
        "                     rescale=1./255, \n",
        "                     shear_range=0.4, \n",
        "                     zoom_range=[0.5,1.0], \n",
        "                     horizontal_flip = True,vertical_flip= True,                \n",
        "                     fill_mode = 'nearest', \n",
        "                     data_format='channels_last') \n",
        "  dir=\"/content/new/\"+l[i]\n",
        "  imgs = os.listdir(dir)\n",
        "  save_dir='/content/datasets/'+l[i]\n",
        "  prefix=l[i]+\"_data\"\n",
        "\n",
        "  for img in imgs:\n",
        "      img=cv2.imread(dir+\"/\"+img)\n",
        "      x = img_to_array(img)\n",
        "      x = x.reshape((1,) + x.shape)\n",
        "\n",
        "      i = 0\n",
        "      for batch in datagen.flow (x, batch_size=1, save_to_dir =save_dir, save_prefix =prefix, save_format='jpg'):\n",
        "          i+=1\n",
        "          if i>1:\n",
        "              break"
      ],
      "execution_count": null,
      "outputs": []
    },
    {
      "cell_type": "code",
      "metadata": {
        "id": "Or3W5mUxTCP9",
        "colab_type": "code",
        "colab": {}
      },
      "source": [
        "!unzip '/content/crop.zip'"
      ],
      "execution_count": null,
      "outputs": []
    },
    {
      "cell_type": "code",
      "metadata": {
        "id": "w0EAXtANVIjK",
        "colab_type": "code",
        "colab": {}
      },
      "source": [
        "!ls /content/dataset/sorghum/"
      ],
      "execution_count": null,
      "outputs": []
    },
    {
      "cell_type": "code",
      "metadata": {
        "id": "YGqQJCpvTRP0",
        "colab_type": "code",
        "colab": {}
      },
      "source": [
        "l=[\"banana\",\"coconut\",\"orange\",\"ragi\",\"sorghum\"]\n",
        "for i in range(len(l)):\n",
        "  datagen = ImageDataGenerator(rotation_range =60, \n",
        "                     width_shift_range = 0.2, \n",
        "                     height_shift_range = 0.2,  \n",
        "                     rescale=1./255, \n",
        "                     shear_range=0.4, \n",
        "                     zoom_range=[0.5,1.0], \n",
        "                     horizontal_flip = True,vertical_flip= True,                \n",
        "                     fill_mode = 'nearest', \n",
        "                     data_format='channels_last') \n",
        "  dir=\"/content/crop/\"+l[i]\n",
        "  imgs = os.listdir(dir)\n",
        "  save_dir='/content/datasets/'+l[i]\n",
        "  prefix=l[i]+\"_data\"\n",
        "\n",
        "  for img in imgs:\n",
        "      img=cv2.imread(dir+\"/\"+img)\n",
        "      x = img_to_array(img)\n",
        "      x = x.reshape((1,) + x.shape)\n",
        "\n",
        "      i = 0\n",
        "      for batch in datagen.flow (x, batch_size=1, save_to_dir =save_dir, save_prefix =prefix, save_format='jpg'):\n",
        "          i+=1\n",
        "          if i>1:\n",
        "              break"
      ],
      "execution_count": null,
      "outputs": []
    },
    {
      "cell_type": "code",
      "metadata": {
        "id": "pdpYIkhTV-pL",
        "colab_type": "code",
        "colab": {
          "base_uri": "https://localhost:8080/",
          "height": 318
        },
        "outputId": "da5e5931-2ae0-44d7-aab7-995092b63778"
      },
      "source": [
        "!unzip '/datasets.zip'"
      ],
      "execution_count": null,
      "outputs": [
        {
          "output_type": "stream",
          "text": [
            "Archive:  /datasets.zip\n",
            "   creating: datasets/bajra/\n",
            "   creating: datasets/banana/\n",
            "   creating: datasets/bitter gourd/\n",
            "   creating: datasets/cabbage/\n",
            "   creating: datasets/coconut/\n",
            "   creating: datasets/corn/\n",
            "   creating: datasets/cotton/\n",
            "   creating: datasets/jute/\n",
            "   creating: datasets/orange/\n",
            "   creating: datasets/ragi/\n",
            "   creating: datasets/rice/\n",
            "   creating: datasets/sorghum/\n",
            "   creating: datasets/sugarcane/\n",
            "   creating: datasets/sunflower/\n",
            "   creating: datasets/tea/\n",
            "   creating: datasets/tobacco/\n",
            "   creating: datasets/wheat/\n"
          ],
          "name": "stdout"
        }
      ]
    },
    {
      "cell_type": "code",
      "metadata": {
        "id": "Skdak9qsVvHZ",
        "colab_type": "code",
        "colab": {}
      },
      "source": [
        "l1=[\"bajra\",\"corn\",\"cotton\",\"jute\",\"rice\",\"sugarcane\",\"sunflower\",\"tea\",\"tobacco\",\"wheat\"]\n",
        "for i in range(len(l1)):\n",
        "  datagen = ImageDataGenerator(rotation_range =60, \n",
        "                     width_shift_range = 0.2, \n",
        "                     height_shift_range = 0.2,  \n",
        "                     rescale=1./255, \n",
        "                     shear_range=0.4, \n",
        "                     zoom_range=[0.5,1.0], \n",
        "                     horizontal_flip = True,vertical_flip= True,                \n",
        "                     fill_mode = 'nearest', \n",
        "                     data_format='channels_last') \n",
        "  dir=\"/content/data/\"+l1[i]\n",
        "  imgs = os.listdir(dir)\n",
        "  save_dir='/content/datasets/'+l1[i]\n",
        "  prefix=l1[i]+\"_data\"\n",
        "\n",
        "  for img in imgs:\n",
        "      img=cv2.imread(dir+\"/\"+img)\n",
        "      x = img_to_array(img)\n",
        "      x = x.reshape((1,) + x.shape)\n",
        "\n",
        "      i = 0\n",
        "      for batch in datagen.flow (x, batch_size=1, save_to_dir =save_dir, save_prefix =prefix, save_format='jpg'):\n",
        "          i+=1\n",
        "          if i>1:\n",
        "              break"
      ],
      "execution_count": null,
      "outputs": []
    },
    {
      "cell_type": "code",
      "metadata": {
        "id": "cySyUqeK0m6n",
        "colab_type": "code",
        "colab": {
          "base_uri": "https://localhost:8080/",
          "height": 50
        },
        "outputId": "8d3cad6e-a7e1-45d0-cd5c-3e43fa432d42"
      },
      "source": [
        "IMAGE_SIZE = 224\n",
        "BATCH_SIZE = 64\n",
        "\n",
        "datagen = tf.keras.preprocessing.image.ImageDataGenerator(\n",
        "    rescale=1./255, \n",
        "    validation_split=0.2)\n",
        "\n",
        "train_generator = datagen.flow_from_directory(\n",
        "    '/content/datasets',\n",
        "    target_size=(IMAGE_SIZE, IMAGE_SIZE),\n",
        "    batch_size=BATCH_SIZE, \n",
        "    subset='training')\n",
        "\n",
        "val_generator = datagen.flow_from_directory(\n",
        "    '/content/datasets',\n",
        "    target_size=(IMAGE_SIZE, IMAGE_SIZE),\n",
        "    batch_size=BATCH_SIZE, \n",
        "    subset='validation')"
      ],
      "execution_count": null,
      "outputs": [
        {
          "output_type": "stream",
          "text": [
            "Found 2661 images belonging to 17 classes.\n",
            "Found 658 images belonging to 17 classes.\n"
          ],
          "name": "stdout"
        }
      ]
    },
    {
      "cell_type": "code",
      "metadata": {
        "id": "C2ccuGBb2lXR",
        "colab_type": "code",
        "colab": {
          "base_uri": "https://localhost:8080/",
          "height": 33
        },
        "outputId": "636cfcf6-2dd9-46ef-86ae-41649fb3fad3"
      },
      "source": [
        "image_batch, label_batch = next(val_generator)\n",
        "image_batch.shape, label_batch.shape"
      ],
      "execution_count": null,
      "outputs": [
        {
          "output_type": "execute_result",
          "data": {
            "text/plain": [
              "((64, 224, 224, 3), (64, 17))"
            ]
          },
          "metadata": {
            "tags": []
          },
          "execution_count": 22
        }
      ]
    },
    {
      "cell_type": "code",
      "metadata": {
        "id": "lKs_srEka9uU",
        "colab_type": "code",
        "colab": {}
      },
      "source": [
        "!rm -rf `find -type d -name .ipynb_checkpoints`"
      ],
      "execution_count": null,
      "outputs": []
    },
    {
      "cell_type": "code",
      "metadata": {
        "id": "58zPyZSp24Jd",
        "colab_type": "code",
        "colab": {
          "base_uri": "https://localhost:8080/",
          "height": 53
        },
        "outputId": "342395b6-a01e-4f01-9d67-2dd1a8d05765"
      },
      "source": [
        "print (train_generator.class_indices)\n",
        "\n",
        "labels = '\\n'.join(sorted(train_generator.class_indices.keys()))\n",
        "\n",
        "with open('crop_labels_ag_2.txt', 'w') as f:\n",
        "  f.write(labels)"
      ],
      "execution_count": null,
      "outputs": [
        {
          "output_type": "stream",
          "text": [
            "{'bajra': 0, 'banana': 1, 'bitter_gourd': 2, 'cabbage': 3, 'coconut': 4, 'corn': 5, 'cotton': 6, 'jute': 7, 'orange': 8, 'ragi': 9, 'rice': 10, 'sorghum': 11, 'sugarcane': 12, 'sunflower': 13, 'tea': 14, 'tobacco': 15, 'wheat': 16}\n"
          ],
          "name": "stdout"
        }
      ]
    },
    {
      "cell_type": "code",
      "metadata": {
        "id": "oKBpyTbs28X6",
        "colab_type": "code",
        "colab": {
          "base_uri": "https://localhost:8080/",
          "height": 301
        },
        "outputId": "b60f106b-d1cd-4278-b0db-644a7d86d118"
      },
      "source": [
        "!cat crop_labels_ag_2.txt"
      ],
      "execution_count": null,
      "outputs": [
        {
          "output_type": "stream",
          "text": [
            "bajra\n",
            "banana\n",
            "bitter_gourd\n",
            "cabbage\n",
            "coconut\n",
            "corn\n",
            "cotton\n",
            "jute\n",
            "orange\n",
            "ragi\n",
            "rice\n",
            "sorghum\n",
            "sugarcane\n",
            "sunflower\n",
            "tea\n",
            "tobacco\n",
            "wheat"
          ],
          "name": "stdout"
        }
      ]
    },
    {
      "cell_type": "code",
      "metadata": {
        "id": "1DIgxn6E2_uB",
        "colab_type": "code",
        "colab": {}
      },
      "source": [
        "IMG_SHAPE = (IMAGE_SIZE, IMAGE_SIZE, 3)\n",
        "\n",
        "base_model = tf.keras.applications.MobileNetV2(input_shape=IMG_SHAPE,\n",
        "                                              include_top=False, \n",
        "                                              weights='imagenet')"
      ],
      "execution_count": null,
      "outputs": []
    },
    {
      "cell_type": "code",
      "metadata": {
        "id": "UbKWyTUo3H2t",
        "colab_type": "code",
        "colab": {}
      },
      "source": [
        "model = tf.keras.Sequential([\n",
        "  base_model,\n",
        "  tf.keras.layers.Conv2D(filters=32, kernel_size=3, activation='relu'),\n",
        "  tf.keras.layers.Dropout(0.4),\n",
        "  tf.keras.layers.GlobalAveragePooling2D(),\n",
        "  tf.keras.layers.Dense(units=17, activation='softmax')\n",
        "])\n"
      ],
      "execution_count": null,
      "outputs": []
    },
    {
      "cell_type": "code",
      "metadata": {
        "id": "N5yvjyvS3tED",
        "colab_type": "code",
        "colab": {}
      },
      "source": [
        "for layers in base_model.layers[:-36]:\n",
        "  layers.trainable=False"
      ],
      "execution_count": null,
      "outputs": []
    },
    {
      "cell_type": "code",
      "metadata": {
        "id": "hndKiwEW7kjl",
        "colab_type": "code",
        "colab": {}
      },
      "source": [
        "model.compile(optimizer=tf.keras.optimizers.Adam(learning_rate=0.0001),\n",
        "              loss='categorical_crossentropy',\n",
        "              metrics=['accuracy'])"
      ],
      "execution_count": null,
      "outputs": []
    },
    {
      "cell_type": "code",
      "metadata": {
        "id": "CUFWFzzi7mGw",
        "colab_type": "code",
        "colab": {
          "base_uri": "https://localhost:8080/",
          "height": 318
        },
        "outputId": "2df6a32e-18e5-4305-c36b-66154beb14c8"
      },
      "source": [
        "model.summary()"
      ],
      "execution_count": null,
      "outputs": [
        {
          "output_type": "stream",
          "text": [
            "Model: \"sequential_4\"\n",
            "_________________________________________________________________\n",
            "Layer (type)                 Output Shape              Param #   \n",
            "=================================================================\n",
            "mobilenetv2_1.00_224 (Model) (None, 7, 7, 1280)        2257984   \n",
            "_________________________________________________________________\n",
            "conv2d_4 (Conv2D)            (None, 5, 5, 32)          368672    \n",
            "_________________________________________________________________\n",
            "dropout_4 (Dropout)          (None, 5, 5, 32)          0         \n",
            "_________________________________________________________________\n",
            "global_average_pooling2d_4 ( (None, 32)                0         \n",
            "_________________________________________________________________\n",
            "dense_4 (Dense)              (None, 17)                561       \n",
            "=================================================================\n",
            "Total params: 2,627,217\n",
            "Trainable params: 1,994,129\n",
            "Non-trainable params: 633,088\n",
            "_________________________________________________________________\n"
          ],
          "name": "stdout"
        }
      ]
    },
    {
      "cell_type": "code",
      "metadata": {
        "id": "CA96N1P67rnK",
        "colab_type": "code",
        "colab": {
          "base_uri": "https://localhost:8080/",
          "height": 33
        },
        "outputId": "f5f63bd9-220e-4fa7-c989-13cba295661e"
      },
      "source": [
        "print('Number of trainable weights = {}'.format(len(model.trainable_weights)))"
      ],
      "execution_count": null,
      "outputs": [
        {
          "output_type": "stream",
          "text": [
            "Number of trainable weights = 40\n"
          ],
          "name": "stdout"
        }
      ]
    },
    {
      "cell_type": "code",
      "metadata": {
        "id": "Y0faDky67tvU",
        "colab_type": "code",
        "colab": {
          "base_uri": "https://localhost:8080/",
          "height": 1000
        },
        "outputId": "af04eacb-a225-46c3-be65-5f347f4fc088"
      },
      "source": [
        "history_fine = model.fit_generator(train_generator, \n",
        "                         epochs=60,\n",
        "                         validation_data=val_generator,\n",
        "                         steps_per_epoch=18 ,\n",
        "                         validation_steps =3 , verbose =2)"
      ],
      "execution_count": null,
      "outputs": [
        {
          "output_type": "stream",
          "text": [
            "Epoch 1/60\n",
            "Epoch 1/60\n",
            "18/18 - 363s - loss: 2.5899 - acc: 0.2036 - val_loss: 2.5918 - val_acc: 0.1927\n",
            "Epoch 2/60\n",
            "Epoch 1/60\n",
            "18/18 - 365s - loss: 1.8858 - acc: 0.4253 - val_loss: 2.6727 - val_acc: 0.2969\n",
            "Epoch 3/60\n",
            "Epoch 1/60\n",
            "18/18 - 368s - loss: 1.1749 - acc: 0.6328 - val_loss: 2.2385 - val_acc: 0.3750\n",
            "Epoch 4/60\n",
            "Epoch 1/60\n",
            "18/18 - 357s - loss: 0.9088 - acc: 0.7182 - val_loss: 2.7028 - val_acc: 0.3229\n",
            "Epoch 5/60\n",
            "Epoch 1/60\n",
            "18/18 - 364s - loss: 0.6995 - acc: 0.8021 - val_loss: 2.8533 - val_acc: 0.3854\n",
            "Epoch 6/60\n",
            "Epoch 1/60\n",
            "18/18 - 368s - loss: 0.4420 - acc: 0.8759 - val_loss: 2.8946 - val_acc: 0.3385\n",
            "Epoch 7/60\n",
            "Epoch 1/60\n",
            "18/18 - 359s - loss: 0.4149 - acc: 0.8791 - val_loss: 2.8542 - val_acc: 0.3802\n",
            "Epoch 8/60\n",
            "Epoch 1/60\n",
            "18/18 - 360s - loss: 0.2147 - acc: 0.9564 - val_loss: 2.9045 - val_acc: 0.3802\n",
            "Epoch 9/60\n",
            "Epoch 1/60\n",
            "18/18 - 370s - loss: 0.2274 - acc: 0.9427 - val_loss: 3.2548 - val_acc: 0.3333\n",
            "Epoch 10/60\n",
            "Epoch 1/60\n",
            "18/18 - 363s - loss: 0.1683 - acc: 0.9644 - val_loss: 3.0619 - val_acc: 0.4062\n",
            "Epoch 11/60\n",
            "Epoch 1/60\n",
            "18/18 - 369s - loss: 0.1154 - acc: 0.9774 - val_loss: 2.9776 - val_acc: 0.4115\n",
            "Epoch 12/60\n",
            "Epoch 1/60\n",
            "18/18 - 361s - loss: 0.0959 - acc: 0.9774 - val_loss: 3.2723 - val_acc: 0.3594\n",
            "Epoch 13/60\n",
            "Epoch 1/60\n",
            "18/18 - 349s - loss: 0.0778 - acc: 0.9929 - val_loss: 3.0252 - val_acc: 0.3906\n",
            "Epoch 14/60\n",
            "Epoch 1/60\n",
            "18/18 - 358s - loss: 0.0573 - acc: 0.9913 - val_loss: 3.2303 - val_acc: 0.3958\n",
            "Epoch 15/60\n",
            "Epoch 1/60\n",
            "18/18 - 352s - loss: 0.0479 - acc: 0.9931 - val_loss: 3.2502 - val_acc: 0.3854\n",
            "Epoch 16/60\n",
            "Epoch 1/60\n",
            "18/18 - 349s - loss: 0.0587 - acc: 0.9902 - val_loss: 3.4338 - val_acc: 0.3750\n",
            "Epoch 17/60\n",
            "Epoch 1/60\n",
            "18/18 - 357s - loss: 0.0376 - acc: 0.9939 - val_loss: 3.3787 - val_acc: 0.3802\n",
            "Epoch 18/60\n",
            "Epoch 1/60\n",
            "18/18 - 356s - loss: 0.0366 - acc: 0.9947 - val_loss: 3.2583 - val_acc: 0.3698\n",
            "Epoch 19/60\n",
            "Epoch 1/60\n",
            "18/18 - 362s - loss: 0.0291 - acc: 0.9983 - val_loss: 3.1217 - val_acc: 0.3854\n",
            "Epoch 20/60\n",
            "Epoch 1/60\n",
            "18/18 - 363s - loss: 0.0246 - acc: 0.9983 - val_loss: 3.4713 - val_acc: 0.3542\n",
            "Epoch 21/60\n",
            "Epoch 1/60\n",
            "18/18 - 365s - loss: 0.0276 - acc: 0.9973 - val_loss: 3.5738 - val_acc: 0.3542\n",
            "Epoch 22/60\n",
            "Epoch 1/60\n",
            "18/18 - 365s - loss: 0.0236 - acc: 0.9964 - val_loss: 3.0174 - val_acc: 0.4271\n",
            "Epoch 23/60\n",
            "Epoch 1/60\n",
            "18/18 - 374s - loss: 0.0200 - acc: 0.9974 - val_loss: 3.2078 - val_acc: 0.4115\n",
            "Epoch 24/60\n",
            "Epoch 1/60\n",
            "18/18 - 365s - loss: 0.0158 - acc: 0.9983 - val_loss: 3.1137 - val_acc: 0.4375\n",
            "Epoch 25/60\n",
            "Epoch 1/60\n",
            "18/18 - 365s - loss: 0.0199 - acc: 0.9964 - val_loss: 3.2002 - val_acc: 0.4167\n",
            "Epoch 26/60\n",
            "Epoch 1/60\n",
            "18/18 - 383s - loss: 0.0212 - acc: 0.9939 - val_loss: 3.5196 - val_acc: 0.3906\n",
            "Epoch 27/60\n",
            "Epoch 1/60\n",
            "18/18 - 382s - loss: 0.0284 - acc: 0.9931 - val_loss: 3.0309 - val_acc: 0.4219\n",
            "Epoch 28/60\n",
            "Epoch 1/60\n",
            "18/18 - 371s - loss: 0.0232 - acc: 0.9964 - val_loss: 3.0297 - val_acc: 0.4323\n",
            "Epoch 29/60\n",
            "Epoch 1/60\n",
            "18/18 - 370s - loss: 0.0155 - acc: 0.9982 - val_loss: 3.1922 - val_acc: 0.4375\n",
            "Epoch 30/60\n",
            "Epoch 1/60\n",
            "18/18 - 380s - loss: 0.0158 - acc: 0.9974 - val_loss: 3.0929 - val_acc: 0.4427\n",
            "Epoch 31/60\n",
            "Epoch 1/60\n",
            "18/18 - 374s - loss: 0.0110 - acc: 0.9991 - val_loss: 3.1478 - val_acc: 0.4323\n",
            "Epoch 32/60\n",
            "Epoch 1/60\n",
            "18/18 - 375s - loss: 0.0124 - acc: 0.9974 - val_loss: 3.1831 - val_acc: 0.4375\n",
            "Epoch 33/60\n",
            "Epoch 1/60\n",
            "18/18 - 361s - loss: 0.0101 - acc: 1.0000 - val_loss: 3.1487 - val_acc: 0.4427\n",
            "Epoch 34/60\n",
            "Epoch 1/60\n",
            "18/18 - 363s - loss: 0.0124 - acc: 0.9991 - val_loss: 3.1902 - val_acc: 0.4062\n",
            "Epoch 35/60\n",
            "Epoch 1/60\n",
            "18/18 - 373s - loss: 0.0087 - acc: 0.9991 - val_loss: 3.0018 - val_acc: 0.4427\n",
            "Epoch 36/60\n",
            "Epoch 1/60\n",
            "18/18 - 372s - loss: 0.0105 - acc: 0.9991 - val_loss: 3.1514 - val_acc: 0.4635\n",
            "Epoch 37/60\n",
            "Epoch 1/60\n",
            "18/18 - 365s - loss: 0.0077 - acc: 0.9991 - val_loss: 3.2781 - val_acc: 0.4531\n",
            "Epoch 38/60\n",
            "Epoch 1/60\n",
            "18/18 - 368s - loss: 0.0072 - acc: 0.9991 - val_loss: 3.2311 - val_acc: 0.4531\n",
            "Epoch 39/60\n",
            "Epoch 1/60\n",
            "18/18 - 354s - loss: 0.0079 - acc: 1.0000 - val_loss: 2.9603 - val_acc: 0.4844\n",
            "Epoch 40/60\n",
            "Epoch 1/60\n",
            "18/18 - 360s - loss: 0.0067 - acc: 1.0000 - val_loss: 2.9580 - val_acc: 0.4740\n",
            "Epoch 41/60\n",
            "Epoch 1/60\n",
            "18/18 - 362s - loss: 0.0048 - acc: 1.0000 - val_loss: 2.9849 - val_acc: 0.4740\n",
            "Epoch 42/60\n"
          ],
          "name": "stdout"
        }
      ]
    },
    {
      "cell_type": "code",
      "metadata": {
        "id": "k0wBKsIVAlRd",
        "colab_type": "code",
        "colab": {}
      },
      "source": [
        "acc = history_fine.history['acc']\n",
        "val_acc = history_fine.history['val_acc']\n",
        "\n",
        "loss = history_fine.history['loss']\n",
        "val_loss = history_fine.history['val_loss']\n",
        "\n",
        "plt.figure(figsize=(8, 8))\n",
        "plt.subplot(2, 1, 1)\n",
        "plt.plot(acc, label='Training Accuracy')\n",
        "plt.plot(val_acc, label='Validation Accuracy')\n",
        "plt.legend(loc='lower right')\n",
        "plt.ylabel('Accuracy')\n",
        "plt.ylim([min(plt.ylim()),1])\n",
        "plt.title('Training and Validation Accuracy')\n",
        "\n",
        "plt.subplot(2, 1, 2)\n",
        "plt.plot(loss, label='Training Loss')\n",
        "plt.plot(val_loss, label='Validation Loss')\n",
        "plt.legend(loc='upper right')\n",
        "plt.ylabel('Cross Entropy')\n",
        "plt.ylim([0,1.0])\n",
        "plt.title('Training and Validation Loss')\n",
        "plt.xlabel('epoch')\n",
        "plt.show()"
      ],
      "execution_count": null,
      "outputs": []
    },
    {
      "cell_type": "code",
      "metadata": {
        "id": "PGsDPSxtD61V",
        "colab_type": "code",
        "colab": {
          "base_uri": "https://localhost:8080/",
          "height": 70
        },
        "outputId": "75098814-3d2e-406d-efa1-fe41a6dc6bfd"
      },
      "source": [
        "saved_keras_model = 'model.h5'\n",
        "model.save(saved_keras_model)\n",
        "\n",
        "converter = tf.lite.TFLiteConverter.from_keras_model_file(saved_keras_model)\n",
        "converter.optimizations = [tf.lite.Optimize.DEFAULT]\n",
        "tflite_model = converter.convert()\n",
        "\n",
        "with open('mobilenet_v2_1.0_224.tflite', 'wb') as f:\n",
        "  f.write(tflite_model)"
      ],
      "execution_count": null,
      "outputs": [
        {
          "output_type": "stream",
          "text": [
            "WARNING:tensorflow:Entity <function Function._initialize_uninitialized_variables.<locals>.initialize_variables at 0x7fced71e1d08> could not be transformed and will be executed as-is. Please report this to the AutoGraph team. When filing the bug, set the verbosity to 10 (on Linux, `export AUTOGRAPH_VERBOSITY=10`) and attach the full output. Cause: module 'gast' has no attribute 'Num'\n",
            "WARNING: Entity <function Function._initialize_uninitialized_variables.<locals>.initialize_variables at 0x7fced71e1d08> could not be transformed and will be executed as-is. Please report this to the AutoGraph team. When filing the bug, set the verbosity to 10 (on Linux, `export AUTOGRAPH_VERBOSITY=10`) and attach the full output. Cause: module 'gast' has no attribute 'Num'\n"
          ],
          "name": "stdout"
        }
      ]
    },
    {
      "cell_type": "code",
      "metadata": {
        "id": "HPzf2E70ErFK",
        "colab_type": "code",
        "colab": {
          "base_uri": "https://localhost:8080/",
          "height": 70
        },
        "outputId": "04104c5b-1338-448e-8886-a469f6d84e63"
      },
      "source": [
        "def representative_data_gen():\n",
        "  dataset_list = tf.data.Dataset.list_files('/content/data' + '/*/*')\n",
        "  for i in range(100):\n",
        "    image = next(iter(dataset_list))\n",
        "    image = tf.io.read_file(image)\n",
        "    image = tf.io.decode_jpeg(image, channels=3)\n",
        "    image = tf.image.resize(image, [IMAGE_SIZE, IMAGE_SIZE])\n",
        "    image = tf.cast(image / 255., tf.float32)\n",
        "    image = tf.expand_dims(image, 0)\n",
        "    yield [image]\n",
        "\n",
        "saved_keras_model = 'model.h5'\n",
        "model.save(saved_keras_model)\n",
        "\n",
        "converter = tf.lite.TFLiteConverter.from_keras_model_file(saved_keras_model)\n",
        "converter.optimizations = [tf.lite.Optimize.DEFAULT]\n",
        "\n",
        "converter.target_spec.supported_ops = [tf.lite.OpsSet.TFLITE_BUILTINS_INT8]\n",
        "\n",
        "converter.inference_input_type = tf.uint8\n",
        "converter.inference_output_type = tf.uint8\n",
        "\n",
        "converter.representative_dataset = representative_data_gen\n",
        "tflite_model = converter.convert()\n",
        "\n",
        "with open('mobilenet_v2_1.0_224_quant.tflite', 'wb') as f:\n",
        "  f.write(tflite_model)"
      ],
      "execution_count": null,
      "outputs": [
        {
          "output_type": "stream",
          "text": [
            "WARNING:tensorflow:Entity <function Function._initialize_uninitialized_variables.<locals>.initialize_variables at 0x7fced7fce9d8> could not be transformed and will be executed as-is. Please report this to the AutoGraph team. When filing the bug, set the verbosity to 10 (on Linux, `export AUTOGRAPH_VERBOSITY=10`) and attach the full output. Cause: module 'gast' has no attribute 'Num'\n",
            "WARNING: Entity <function Function._initialize_uninitialized_variables.<locals>.initialize_variables at 0x7fced7fce9d8> could not be transformed and will be executed as-is. Please report this to the AutoGraph team. When filing the bug, set the verbosity to 10 (on Linux, `export AUTOGRAPH_VERBOSITY=10`) and attach the full output. Cause: module 'gast' has no attribute 'Num'\n"
          ],
          "name": "stdout"
        }
      ]
    },
    {
      "cell_type": "code",
      "metadata": {
        "id": "vOlZi4h8GoLl",
        "colab_type": "code",
        "colab": {
          "base_uri": "https://localhost:8080/",
          "height": 17
        },
        "outputId": "db07dd31-118c-4a30-c2ce-9b6fed24941c"
      },
      "source": [
        "from google.colab import files\n",
        "\n",
        "files.download('mobilenet_v2_1.0_224_quant.tflite')\n",
        "files.download('crop_labels.txt')"
      ],
      "execution_count": null,
      "outputs": [
        {
          "output_type": "display_data",
          "data": {
            "application/javascript": [
              "\n",
              "    async function download(id, filename, size) {\n",
              "      if (!google.colab.kernel.accessAllowed) {\n",
              "        return;\n",
              "      }\n",
              "      const div = document.createElement('div');\n",
              "      const label = document.createElement('label');\n",
              "      label.textContent = `Downloading \"${filename}\": `;\n",
              "      div.appendChild(label);\n",
              "      const progress = document.createElement('progress');\n",
              "      progress.max = size;\n",
              "      div.appendChild(progress);\n",
              "      document.body.appendChild(div);\n",
              "\n",
              "      const buffers = [];\n",
              "      let downloaded = 0;\n",
              "\n",
              "      const channel = await google.colab.kernel.comms.open(id);\n",
              "      // Send a message to notify the kernel that we're ready.\n",
              "      channel.send({})\n",
              "\n",
              "      for await (const message of channel.messages) {\n",
              "        // Send a message to notify the kernel that we're ready.\n",
              "        channel.send({})\n",
              "        if (message.buffers) {\n",
              "          for (const buffer of message.buffers) {\n",
              "            buffers.push(buffer);\n",
              "            downloaded += buffer.byteLength;\n",
              "            progress.value = downloaded;\n",
              "          }\n",
              "        }\n",
              "      }\n",
              "      const blob = new Blob(buffers, {type: 'application/binary'});\n",
              "      const a = document.createElement('a');\n",
              "      a.href = window.URL.createObjectURL(blob);\n",
              "      a.download = filename;\n",
              "      div.appendChild(a);\n",
              "      a.click();\n",
              "      div.remove();\n",
              "    }\n",
              "  "
            ],
            "text/plain": [
              "<IPython.core.display.Javascript object>"
            ]
          },
          "metadata": {
            "tags": []
          }
        },
        {
          "output_type": "display_data",
          "data": {
            "application/javascript": [
              "download(\"download_ac8b278a-2353-4dc3-9ea3-ca7700886393\", \"mobilenet_v2_1.0_224_quant.tflite\", 3073320)"
            ],
            "text/plain": [
              "<IPython.core.display.Javascript object>"
            ]
          },
          "metadata": {
            "tags": []
          }
        },
        {
          "output_type": "display_data",
          "data": {
            "application/javascript": [
              "\n",
              "    async function download(id, filename, size) {\n",
              "      if (!google.colab.kernel.accessAllowed) {\n",
              "        return;\n",
              "      }\n",
              "      const div = document.createElement('div');\n",
              "      const label = document.createElement('label');\n",
              "      label.textContent = `Downloading \"${filename}\": `;\n",
              "      div.appendChild(label);\n",
              "      const progress = document.createElement('progress');\n",
              "      progress.max = size;\n",
              "      div.appendChild(progress);\n",
              "      document.body.appendChild(div);\n",
              "\n",
              "      const buffers = [];\n",
              "      let downloaded = 0;\n",
              "\n",
              "      const channel = await google.colab.kernel.comms.open(id);\n",
              "      // Send a message to notify the kernel that we're ready.\n",
              "      channel.send({})\n",
              "\n",
              "      for await (const message of channel.messages) {\n",
              "        // Send a message to notify the kernel that we're ready.\n",
              "        channel.send({})\n",
              "        if (message.buffers) {\n",
              "          for (const buffer of message.buffers) {\n",
              "            buffers.push(buffer);\n",
              "            downloaded += buffer.byteLength;\n",
              "            progress.value = downloaded;\n",
              "          }\n",
              "        }\n",
              "      }\n",
              "      const blob = new Blob(buffers, {type: 'application/binary'});\n",
              "      const a = document.createElement('a');\n",
              "      a.href = window.URL.createObjectURL(blob);\n",
              "      a.download = filename;\n",
              "      div.appendChild(a);\n",
              "      a.click();\n",
              "      div.remove();\n",
              "    }\n",
              "  "
            ],
            "text/plain": [
              "<IPython.core.display.Javascript object>"
            ]
          },
          "metadata": {
            "tags": []
          }
        },
        {
          "output_type": "display_data",
          "data": {
            "application/javascript": [
              "download(\"download_39b44d6e-2ac9-43b0-a4e5-93c35fc9cf64\", \"crop_labels.txt\", 65)"
            ],
            "text/plain": [
              "<IPython.core.display.Javascript object>"
            ]
          },
          "metadata": {
            "tags": []
          }
        }
      ]
    }
  ]
}